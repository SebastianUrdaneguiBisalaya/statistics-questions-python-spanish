{
 "cells": [
  {
   "cell_type": "markdown",
   "id": "1ffbe942",
   "metadata": {},
   "source": [
    "## **Pregunta 1: Distribución de un parámetro**\n",
    "\n",
    "• Genere artificialmente las siguientes variables:\n",
    "\n",
    "$Xt$ con una distribución normal con media 0 y varianza 1 de 100 datos\n",
    "\n",
    "$Et$ con una distribución normal con media 0 y varianza 1 de 100 datos\n",
    "\n",
    "• Realice el siguiente Proceso Generador de Datos:\n",
    "\n",
    "$$Yt=1.2+1.5*Xt+Et$$\n",
    "\n",
    "• Luego estime una regresión lineal por MCO entre $Yt$ y $Xt$ y capture el coeficiente.\n",
    "\n",
    "• Construya la prueba T para testear si el coeficiente estimado para $Xt$ es 1.6.\n",
    "\n",
    "• Realice el procedimiento 10000 veces y calcule la potencia de la prueba T (recuerde que la potencia de la prueba es la probabilidad de rechazar la hipótesis nula dado que es falsa).\n",
    "\n",
    "• Ahora considere un cambio en el Proceso Generador de Datos, considerando un $Et$ que siga una distribución chi-cuadrado con 1 grado de libertad. Estime una regresión lineal por MCO entre Yt y Xt y capture el coeficiente.\n",
    "\n",
    "• Construya la prueba T para testear si el coeficiente estimado para $Xt$ es 1.6.\n",
    "\n",
    "• Realice el procedimiento 10000 veces y calcule la potencia de la prueba T (recuerde que la potencia de la prueba es la probabilidad de rechazar la hipótesis nula dado que es falsa).\n",
    "\n",
    "• ¿Cuál potencia es mayor? Justifique su respuesta.\n",
    "\n",
    "\n"
   ]
  },
  {
   "cell_type": "markdown",
   "id": "736f40f8",
   "metadata": {},
   "source": []
  }
 ],
 "metadata": {
  "language_info": {
   "name": "python"
  }
 },
 "nbformat": 4,
 "nbformat_minor": 5
}
