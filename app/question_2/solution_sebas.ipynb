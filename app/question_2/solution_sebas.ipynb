{
 "cells": [
  {
   "cell_type": "markdown",
   "id": "7d9e6550",
   "metadata": {},
   "source": [
    "## **Pregunta 2: Distribución del PBI**\n",
    "\n",
    "Cargue la información del PBI en millones de soles y con frecuencia trimestral desde el BCRP (en el periodo 2005Q1 hasta 2020Q4) y calcule:\n",
    "\n",
    "• Seleccione la submuestra de 2005Q1 hasta 2018Q4 y calcule el promedio, desvió estándar, asimetría y curtosis. Luego seleccione el periodo 2019Q1 hasta 2020Q4 y calcule el promedio, desvió estándar, asimetría y curtosis. Exporte el comparativo de los estadísticos en un Excel.\n",
    "\n",
    "• Evalué la prueba de raíz unitaria Dickey Fuller Aumentado sobre el periodo 2005Q1 y 2018Q4. ¿La serie tiene raíz unitaria?\n",
    "\n",
    "• Realice un test de normalidad y concluya respecto de su distribución del crecimiento anualizado del PBI. ¿Es normalmente distribuido?\n",
    "\n",
    "• Evalué la prueba de raíz unitaria Dickey Fuller Aumentado sobre el crecimiento anualizado del PBI. ¿La serie tiene raíz unitaria?\n",
    "\n",
    "\n"
   ]
  },
  {
   "cell_type": "markdown",
   "id": "1beda4ce",
   "metadata": {},
   "source": []
  }
 ],
 "metadata": {
  "language_info": {
   "name": "python"
  }
 },
 "nbformat": 4,
 "nbformat_minor": 5
}
