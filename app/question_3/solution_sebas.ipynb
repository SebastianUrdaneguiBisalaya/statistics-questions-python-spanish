{
 "cells": [
  {
   "cell_type": "markdown",
   "id": "cbf95f41",
   "metadata": {},
   "source": [
    "## **Pregunta 3: Teorema del Límite Central**\n",
    "\n",
    "Cree una variable $X$ con 50 valores aleatorios que sea distribuida como una distribución chi2 con 1 grado de libertad.\n",
    "\n",
    "Calcule el promedio de la serie $\\bar{x}$ y sabiendo que teóricamente la $E(x)=1$ y $SD(x)=1$ genere el valor de Z de la siguiente manera:\n",
    "\n",
    "$$Z=\\sqrt{N}*(\\bar{x}-E(x))/SD(x)$$\n",
    "\n",
    "Donde N=50 representa el tamaño de muestra. \n",
    "\t• Realice el procedimiento 10000 veces guardando los resultados en un vector $Z1$. Finalmente muestre si la distribución del vector $Z1$ se distribuye como una normal mediante un test.\n",
    "\t\n",
    "    • Realice el mismo procedimiento para un N=100, 200, 500, y 1000. Reporte los resultados del test de normalidad y concluya.\n",
    "\n",
    "\n"
   ]
  },
  {
   "cell_type": "markdown",
   "id": "7b3138ad",
   "metadata": {},
   "source": []
  }
 ],
 "metadata": {
  "language_info": {
   "name": "python"
  }
 },
 "nbformat": 4,
 "nbformat_minor": 5
}
