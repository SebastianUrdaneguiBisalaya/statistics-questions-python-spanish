{
 "cells": [
  {
   "cell_type": "markdown",
   "id": "21596d26",
   "metadata": {},
   "source": [
    "## **Pregunta 4**\n",
    "\n",
    "Trabaje con la base de datos `data.csv`\n",
    "\n",
    "• ¿Cuál es el ingreso promedio de los clientes con formación universitaria? ¿Qué porcentaje de missings tiene la variable exp_sf?  ¿Qué porcentaje de clientes tiene formación universitaria?  ¿Cuál es el promedio de la variable edad?  ¿Qué porcentaje de clientes de Lima presentan missings en la variable exp_sf? \n",
    "\n",
    "• ¿Cuál es la probabilidad de no tener atraso si tu edad es menor a 35 años? ¿Cuál es la probabilidad de no tener días de atraso e ingresos menores a 5000? ¿Cuál es el nivel de ahorro promedio de los clientes con educación técnica y vivienda propia? 9. ¿Cuál es el promedio de la variable ingreso? ¿Cuál es la probabilidad de no tener atraso si tu edad es mayor a 45 años? \n"
   ]
  },
  {
   "cell_type": "markdown",
   "id": "0a54e1a5",
   "metadata": {},
   "source": []
  }
 ],
 "metadata": {
  "language_info": {
   "name": "python"
  }
 },
 "nbformat": 4,
 "nbformat_minor": 5
}
