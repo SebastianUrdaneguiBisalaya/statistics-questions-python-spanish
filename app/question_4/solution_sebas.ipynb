{
 "cells": [
  {
   "cell_type": "markdown",
   "id": "21596d26",
   "metadata": {},
   "source": [
    "## **Pregunta 4**\n",
    "\n",
    "Trabaje con la base de datos `data.csv`\n",
    "\n",
    "• ¿Cuál es el ingreso promedio de los clientes con formación universitaria? ¿Qué porcentaje de missings tiene la variable exp_sf?  ¿Qué porcentaje de clientes tiene formación universitaria?  ¿Cuál es el promedio de la variable edad? ¿Qué porcentaje de clientes de Lima presentan missings en la variable exp_sf? \n",
    "\n",
    "• ¿Cuál es la probabilidad de no tener atraso si tu edad es menor a 35 años? ¿Cuál es la probabilidad de no tener días de atraso e ingresos menores a 5000? ¿Cuál es el nivel de ahorro promedio de los clientes con educación técnica y vivienda propia? ¿Cuál es el promedio de la variable ingreso? ¿Cuál es la probabilidad de no tener atraso si tu edad es mayor a 45 años? \n"
   ]
  },
  {
   "cell_type": "code",
   "execution_count": 23,
   "id": "e302cf61",
   "metadata": {},
   "outputs": [],
   "source": [
    "import pandas as pd\n",
    "import matplotlib.pyplot as plt"
   ]
  },
  {
   "cell_type": "code",
   "execution_count": 3,
   "id": "bcb7e4ae",
   "metadata": {},
   "outputs": [
    {
     "data": {
      "text/html": [
       "<div>\n",
       "<style scoped>\n",
       "    .dataframe tbody tr th:only-of-type {\n",
       "        vertical-align: middle;\n",
       "    }\n",
       "\n",
       "    .dataframe tbody tr th {\n",
       "        vertical-align: top;\n",
       "    }\n",
       "\n",
       "    .dataframe thead th {\n",
       "        text-align: right;\n",
       "    }\n",
       "</style>\n",
       "<table border=\"1\" class=\"dataframe\">\n",
       "  <thead>\n",
       "    <tr style=\"text-align: right;\">\n",
       "      <th></th>\n",
       "      <th>mora</th>\n",
       "      <th>atraso</th>\n",
       "      <th>vivienda</th>\n",
       "      <th>edad</th>\n",
       "      <th>dias_lab</th>\n",
       "      <th>exp_sf</th>\n",
       "      <th>nivel_ahorro</th>\n",
       "      <th>ingreso</th>\n",
       "      <th>linea_sf</th>\n",
       "      <th>deuda_sf</th>\n",
       "      <th>score</th>\n",
       "      <th>zona</th>\n",
       "      <th>clasif_sbs</th>\n",
       "      <th>nivel_educ</th>\n",
       "    </tr>\n",
       "  </thead>\n",
       "  <tbody>\n",
       "    <tr>\n",
       "      <th>0</th>\n",
       "      <td>0</td>\n",
       "      <td>235</td>\n",
       "      <td>FAMILIAR</td>\n",
       "      <td>30</td>\n",
       "      <td>3748</td>\n",
       "      <td>93.0</td>\n",
       "      <td>5</td>\n",
       "      <td>3500.00</td>\n",
       "      <td>NaN</td>\n",
       "      <td>0.00</td>\n",
       "      <td>214</td>\n",
       "      <td>Lima</td>\n",
       "      <td>4</td>\n",
       "      <td>UNIVERSITARIA</td>\n",
       "    </tr>\n",
       "    <tr>\n",
       "      <th>1</th>\n",
       "      <td>0</td>\n",
       "      <td>18</td>\n",
       "      <td>FAMILIAR</td>\n",
       "      <td>32</td>\n",
       "      <td>4598</td>\n",
       "      <td>9.0</td>\n",
       "      <td>12</td>\n",
       "      <td>900.00</td>\n",
       "      <td>1824.67</td>\n",
       "      <td>1933.75</td>\n",
       "      <td>175</td>\n",
       "      <td>La Libertad</td>\n",
       "      <td>1</td>\n",
       "      <td>TECNICA</td>\n",
       "    </tr>\n",
       "    <tr>\n",
       "      <th>2</th>\n",
       "      <td>0</td>\n",
       "      <td>0</td>\n",
       "      <td>FAMILIAR</td>\n",
       "      <td>26</td>\n",
       "      <td>5148</td>\n",
       "      <td>8.0</td>\n",
       "      <td>2</td>\n",
       "      <td>2400.00</td>\n",
       "      <td>2797.38</td>\n",
       "      <td>188.29</td>\n",
       "      <td>187</td>\n",
       "      <td>Lima</td>\n",
       "      <td>0</td>\n",
       "      <td>UNIVERSITARIA</td>\n",
       "    </tr>\n",
       "    <tr>\n",
       "      <th>3</th>\n",
       "      <td>0</td>\n",
       "      <td>0</td>\n",
       "      <td>FAMILIAR</td>\n",
       "      <td>36</td>\n",
       "      <td>5179</td>\n",
       "      <td>20.0</td>\n",
       "      <td>12</td>\n",
       "      <td>2700.00</td>\n",
       "      <td>NaN</td>\n",
       "      <td>0.00</td>\n",
       "      <td>187</td>\n",
       "      <td>Ancash</td>\n",
       "      <td>0</td>\n",
       "      <td>TECNICA</td>\n",
       "    </tr>\n",
       "    <tr>\n",
       "      <th>4</th>\n",
       "      <td>0</td>\n",
       "      <td>0</td>\n",
       "      <td>FAMILIAR</td>\n",
       "      <td>46</td>\n",
       "      <td>3960</td>\n",
       "      <td>NaN</td>\n",
       "      <td>1</td>\n",
       "      <td>3100.00</td>\n",
       "      <td>2000.00</td>\n",
       "      <td>11010.65</td>\n",
       "      <td>189</td>\n",
       "      <td>Lima</td>\n",
       "      <td>0</td>\n",
       "      <td>TECNICA</td>\n",
       "    </tr>\n",
       "    <tr>\n",
       "      <th>...</th>\n",
       "      <td>...</td>\n",
       "      <td>...</td>\n",
       "      <td>...</td>\n",
       "      <td>...</td>\n",
       "      <td>...</td>\n",
       "      <td>...</td>\n",
       "      <td>...</td>\n",
       "      <td>...</td>\n",
       "      <td>...</td>\n",
       "      <td>...</td>\n",
       "      <td>...</td>\n",
       "      <td>...</td>\n",
       "      <td>...</td>\n",
       "      <td>...</td>\n",
       "    </tr>\n",
       "    <tr>\n",
       "      <th>8394</th>\n",
       "      <td>0</td>\n",
       "      <td>0</td>\n",
       "      <td>PROPIA</td>\n",
       "      <td>43</td>\n",
       "      <td>7917</td>\n",
       "      <td>106.0</td>\n",
       "      <td>12</td>\n",
       "      <td>13660.00</td>\n",
       "      <td>121543.40</td>\n",
       "      <td>8338.46</td>\n",
       "      <td>224</td>\n",
       "      <td>Lima</td>\n",
       "      <td>1</td>\n",
       "      <td>UNIVERSITARIA</td>\n",
       "    </tr>\n",
       "    <tr>\n",
       "      <th>8395</th>\n",
       "      <td>1</td>\n",
       "      <td>0</td>\n",
       "      <td>FAMILIAR</td>\n",
       "      <td>29</td>\n",
       "      <td>3352</td>\n",
       "      <td>25.0</td>\n",
       "      <td>0</td>\n",
       "      <td>813.00</td>\n",
       "      <td>2200.00</td>\n",
       "      <td>0.00</td>\n",
       "      <td>197</td>\n",
       "      <td>Lima</td>\n",
       "      <td>1</td>\n",
       "      <td>UNIVERSITARIA</td>\n",
       "    </tr>\n",
       "    <tr>\n",
       "      <th>8396</th>\n",
       "      <td>0</td>\n",
       "      <td>0</td>\n",
       "      <td>FAMILIAR</td>\n",
       "      <td>32</td>\n",
       "      <td>6821</td>\n",
       "      <td>19.0</td>\n",
       "      <td>12</td>\n",
       "      <td>3000.00</td>\n",
       "      <td>10087.00</td>\n",
       "      <td>933.68</td>\n",
       "      <td>200</td>\n",
       "      <td>Lima</td>\n",
       "      <td>1</td>\n",
       "      <td>UNIVERSITARIA</td>\n",
       "    </tr>\n",
       "    <tr>\n",
       "      <th>8397</th>\n",
       "      <td>1</td>\n",
       "      <td>0</td>\n",
       "      <td>PROPIA</td>\n",
       "      <td>38</td>\n",
       "      <td>3882</td>\n",
       "      <td>7.0</td>\n",
       "      <td>12</td>\n",
       "      <td>3069.23</td>\n",
       "      <td>23994.00</td>\n",
       "      <td>13954.65</td>\n",
       "      <td>221</td>\n",
       "      <td>Lambayeque</td>\n",
       "      <td>1</td>\n",
       "      <td>UNIVERSITARIA</td>\n",
       "    </tr>\n",
       "    <tr>\n",
       "      <th>8398</th>\n",
       "      <td>0</td>\n",
       "      <td>0</td>\n",
       "      <td>FAMILIAR</td>\n",
       "      <td>36</td>\n",
       "      <td>5909</td>\n",
       "      <td>51.0</td>\n",
       "      <td>12</td>\n",
       "      <td>3500.00</td>\n",
       "      <td>9060.00</td>\n",
       "      <td>10555.83</td>\n",
       "      <td>216</td>\n",
       "      <td>Lima</td>\n",
       "      <td>0</td>\n",
       "      <td>UNIVERSITARIA</td>\n",
       "    </tr>\n",
       "  </tbody>\n",
       "</table>\n",
       "<p>8399 rows × 14 columns</p>\n",
       "</div>"
      ],
      "text/plain": [
       "      mora  atraso  vivienda  edad  dias_lab  exp_sf  nivel_ahorro   ingreso  \\\n",
       "0        0     235  FAMILIAR    30      3748    93.0             5   3500.00   \n",
       "1        0      18  FAMILIAR    32      4598     9.0            12    900.00   \n",
       "2        0       0  FAMILIAR    26      5148     8.0             2   2400.00   \n",
       "3        0       0  FAMILIAR    36      5179    20.0            12   2700.00   \n",
       "4        0       0  FAMILIAR    46      3960     NaN             1   3100.00   \n",
       "...    ...     ...       ...   ...       ...     ...           ...       ...   \n",
       "8394     0       0    PROPIA    43      7917   106.0            12  13660.00   \n",
       "8395     1       0  FAMILIAR    29      3352    25.0             0    813.00   \n",
       "8396     0       0  FAMILIAR    32      6821    19.0            12   3000.00   \n",
       "8397     1       0    PROPIA    38      3882     7.0            12   3069.23   \n",
       "8398     0       0  FAMILIAR    36      5909    51.0            12   3500.00   \n",
       "\n",
       "       linea_sf  deuda_sf  score         zona  clasif_sbs     nivel_educ  \n",
       "0           NaN      0.00    214         Lima           4  UNIVERSITARIA  \n",
       "1       1824.67   1933.75    175  La Libertad           1        TECNICA  \n",
       "2       2797.38    188.29    187         Lima           0  UNIVERSITARIA  \n",
       "3           NaN      0.00    187       Ancash           0        TECNICA  \n",
       "4       2000.00  11010.65    189         Lima           0        TECNICA  \n",
       "...         ...       ...    ...          ...         ...            ...  \n",
       "8394  121543.40   8338.46    224         Lima           1  UNIVERSITARIA  \n",
       "8395    2200.00      0.00    197         Lima           1  UNIVERSITARIA  \n",
       "8396   10087.00    933.68    200         Lima           1  UNIVERSITARIA  \n",
       "8397   23994.00  13954.65    221   Lambayeque           1  UNIVERSITARIA  \n",
       "8398    9060.00  10555.83    216         Lima           0  UNIVERSITARIA  \n",
       "\n",
       "[8399 rows x 14 columns]"
      ]
     },
     "execution_count": 3,
     "metadata": {},
     "output_type": "execute_result"
    }
   ],
   "source": [
    "data = pd.read_csv(\"data.csv\")\n",
    "data"
   ]
  },
  {
   "cell_type": "markdown",
   "id": "5320dff5",
   "metadata": {},
   "source": [
    "1. **¿Cuál es el ingreso promedio de los clientes con formación universitaria?**"
   ]
  },
  {
   "cell_type": "code",
   "execution_count": 7,
   "id": "99cf2929",
   "metadata": {},
   "outputs": [
    {
     "name": "stdout",
     "output_type": "stream",
     "text": [
      "El ingreso promedio de los estudiantes con formación universitaria es de 5710.40.\n"
     ]
    }
   ],
   "source": [
    "question_one = data[data[\"nivel_educ\"] == \"UNIVERSITARIA\"]['ingreso'].mean()\n",
    "print(f\"El ingreso promedio de los estudiantes con formación universitaria es de {question_one:.2f}.\")"
   ]
  },
  {
   "cell_type": "markdown",
   "id": "61a34244",
   "metadata": {},
   "source": [
    "2. **¿Qué porcentaje de missings tiene la variable exp_sf?**"
   ]
  },
  {
   "cell_type": "code",
   "execution_count": 11,
   "id": "6d3e7826",
   "metadata": {},
   "outputs": [
    {
     "name": "stdout",
     "output_type": "stream",
     "text": [
      "Porcentaje de observaciones nulas: 21.79%\n"
     ]
    }
   ],
   "source": [
    "question_two = data[\"exp_sf\"].isna().sum()/len(data) * 100\n",
    "print(f\"Porcentaje de observaciones nulas: {question_two:.2f}%\")"
   ]
  },
  {
   "cell_type": "markdown",
   "id": "9ce52aae",
   "metadata": {},
   "source": [
    "**3. ¿Qué porcentaje de clientes tiene formación universitaria?**"
   ]
  },
  {
   "cell_type": "code",
   "execution_count": 28,
   "id": "fed2aed2",
   "metadata": {},
   "outputs": [
    {
     "name": "stdout",
     "output_type": "stream",
     "text": [
      "El porcentaje de clientes que tiene formación universitaria es de 57.17%\n"
     ]
    },
    {
     "data": {
      "image/png": "[encoded data removed]",
      "text/plain": [
       "<Figure size 1000x600 with 1 Axes>"
      ]
     },
     "metadata": {},
     "output_type": "display_data"
    }
   ],
   "source": [
    "question_three = pd.DataFrame(data.groupby(\"nivel_educ\")[\"nivel_educ\"].count()).rename(columns={\"nivel_educ\": \"cantidad\"}).reset_index()\n",
    "question_three[\"porcentaje\"] = question_three[\"cantidad\"] / question_three[\"cantidad\"].sum() * 100\n",
    "question_three = question_three.sort_values(by=\"porcentaje\", ascending=False)\n",
    "print(f\"El porcentaje de clientes que tiene formación universitaria es de {question_three['porcentaje'].iloc[0]:.2f}%\")\n",
    "fig, ax = plt.subplots(figsize=(10, 6), facecolor=\"black\")\n",
    "question_three.plot(x=\"nivel_educ\", y=\"porcentaje\", kind=\"bar\", ax=ax)\n",
    "ax.set_xlabel(\"Nivel educativo\")\n",
    "ax.set_ylabel(\"Porcentaje de clientes\")\n",
    "ax.set_title(\"Porcentaje de clientes que tienen formación universitaria\")\n",
    "ax.set_facecolor(\"black\")\n",
    "ax.tick_params(color=\"white\")\n",
    "ax.tick_params(axis=\"x\", labelcolor=\"white\", labelsize=8)\n",
    "ax.tick_params(axis=\"y\", labelcolor=\"white\", labelsize=8)\n",
    "ax.title.set_color(\"white\")\n",
    "for spine in ax.spines.values():\n",
    "    spine.set_edgecolor(\"gray\")\n",
    "plt.show()"
   ]
  },
  {
   "cell_type": "markdown",
   "id": "690bc4df",
   "metadata": {},
   "source": [
    "**4. ¿Cuál es el promedio de la variable edad?**"
   ]
  },
  {
   "cell_type": "code",
   "execution_count": 31,
   "id": "e175d724",
   "metadata": {},
   "outputs": [
    {
     "name": "stdout",
     "output_type": "stream",
     "text": [
      "El promedio de edad es 36.40 años.\n"
     ]
    }
   ],
   "source": [
    "# La variable 'edad' tiene valores faltantes\n",
    "data[\"edad\"].isnull().sum() # No tiene valores faltantes\n",
    "print(f\"El promedio de edad es {data['edad'].mean():.2f} años.\")"
   ]
  },
  {
   "cell_type": "markdown",
   "id": "b0308873",
   "metadata": {},
   "source": [
    "**5. ¿Qué porcentaje de clientes de Lima presentan missings en la variable exp_sf?**"
   ]
  },
  {
   "cell_type": "code",
   "execution_count": 36,
   "id": "d3485904",
   "metadata": {},
   "outputs": [
    {
     "name": "stdout",
     "output_type": "stream",
     "text": [
      "Número total de clientes que presentan missing en la variables 'exp_sf' es : 0.28%\n"
     ]
    }
   ],
   "source": [
    "# La variable 'zona' y 'exp_sf' tienen valores faltantes\n",
    "data[\"zona\"].isnull().sum() # No tiene valores faltantes\n",
    "data[\"exp_sf\"].isnull().sum() # Tiene valores faltantes\n",
    "\n",
    "total_lima = len(data[data[\"zona\"] == \"Lima\"])\n",
    "total_lima_missing = len(data[data[\"zona\"] == \"Lima\"].isnull().sum())\n",
    "print(f\"Número total de clientes que presentan missing en la variables 'exp_sf' es : {(total_lima_missing/total_lima)*100:.2f}%\")"
   ]
  },
  {
   "cell_type": "markdown",
   "id": "ef066447",
   "metadata": {},
   "source": [
    "**6. ¿Cuál es la probabilidad de no tener atraso si tu edad es menor a 35 años?**\n",
    "\n",
    "Debemos calcular una probabilidad condicional.\n",
    "\n",
    "$$\n",
    "P(\\text{atraso} = 0 | \\text{edad} < 35)\n",
    "$$"
   ]
  },
  {
   "cell_type": "code",
   "execution_count": 39,
   "id": "653d332a",
   "metadata": {},
   "outputs": [
    {
     "name": "stdout",
     "output_type": "stream",
     "text": [
      "La probabilidad que un cliente de no tener atraso si su edad es menor a 35 años es de 30.22%.\n"
     ]
    }
   ],
   "source": [
    "first_condition = data[data[\"edad\"] < 35]\n",
    "second_condition = first_condition[first_condition[\"atraso\"] == 0]\n",
    "probability = len(second_condition) / len(data) * 100\n",
    "print(f\"La probabilidad que un cliente de no tener atraso si su edad es menor a 35 años es de {probability:.2f}%.\")"
   ]
  },
  {
   "cell_type": "markdown",
   "id": "e0a6f814",
   "metadata": {},
   "source": [
    "**7. ¿Cuál es la probabilidad de no tener días de atraso e ingresos menores a 5000?**\n",
    "\n",
    "Esto es una probabilidad conjunta.\n",
    "\n",
    "$$\n",
    "P(\\text{atraso} = 0 \\text{y} \\text{ingresos} < 5000)\n",
    "$$"
   ]
  },
  {
   "cell_type": "code",
   "execution_count": 40,
   "id": "57800b07",
   "metadata": {},
   "outputs": [
    {
     "name": "stdout",
     "output_type": "stream",
     "text": [
      "Probabilidad de que el ingreso sea menor a 5000 y el atraso sea 0: 44.62%.\n"
     ]
    }
   ],
   "source": [
    "total = len(data)\n",
    "condition = data[(data[\"atraso\"] == 0) & (data[\"ingreso\"] < 5000)]\n",
    "probability = len(condition) / total * 100\n",
    "print(f\"Probabilidad de que el ingreso sea menor a 5000 y el atraso sea 0: {probability:.2f}%.\")"
   ]
  },
  {
   "cell_type": "markdown",
   "id": "a900f8b6",
   "metadata": {},
   "source": [
    "**8. ¿Cuál es el nivel de ahorro promedio de los clientes con educación técnica y vivienda propia?**"
   ]
  },
  {
   "cell_type": "code",
   "execution_count": 45,
   "id": "681088d6",
   "metadata": {},
   "outputs": [
    {
     "name": "stdout",
     "output_type": "stream",
     "text": [
      "El nivel de ahorro promedio de los clientes con educación técnica y vivienda propia es de 11.47.\n"
     ]
    }
   ],
   "source": [
    "question_eight = data[(data[\"nivel_educ\"] == \"TECNICA\") & (data[\"vivienda\"] == \"PROPIA\")][\"nivel_ahorro\"].mean()\n",
    "print(f\"El nivel de ahorro promedio de los clientes con educación técnica y vivienda propia es de {question_eight:.2f}.\")"
   ]
  },
  {
   "cell_type": "markdown",
   "id": "43bf52a6",
   "metadata": {},
   "source": [
    "**9. ¿Cuál es el promedio de la variable ingreso?**"
   ]
  },
  {
   "cell_type": "code",
   "execution_count": 42,
   "id": "f66d3db5",
   "metadata": {},
   "outputs": [
    {
     "name": "stdout",
     "output_type": "stream",
     "text": [
      "El ingreso promedio de los clientes es 4350.41\n"
     ]
    }
   ],
   "source": [
    "# La variable 'ingreso' tiene valores faltantes\n",
    "data[\"ingreso\"].isnull().sum() # No tiene valores faltantes\n",
    "print(f\"El ingreso promedio de los clientes es {data['ingreso'].mean():.2f}\")"
   ]
  },
  {
   "cell_type": "markdown",
   "id": "dd3d030d",
   "metadata": {},
   "source": [
    "**10. ¿Cuál es la probabilidad de no tener atraso si tu edad es mayor a 45 años?**\n",
    "\n",
    "Esto es una probabilidad condicional.\n",
    "\n",
    "$$\n",
    "P(\\text{atraso} = 0 | \\text{edad} > 45)\n",
    "$$"
   ]
  },
  {
   "cell_type": "code",
   "execution_count": 43,
   "id": "0e447a35",
   "metadata": {},
   "outputs": [
    {
     "name": "stdout",
     "output_type": "stream",
     "text": [
      "La probabilidad que un cliente de no tener atraso si su edad es mayor a 45 años es de 12.51%.\n"
     ]
    }
   ],
   "source": [
    "first_condition = data[data[\"edad\"] > 45]\n",
    "second_condition = first_condition[first_condition[\"atraso\"] == 0]\n",
    "probability = len(second_condition) / len(data) * 100\n",
    "print(f\"La probabilidad que un cliente de no tener atraso si su edad es mayor a 45 años es de {probability:.2f}%.\")"
   ]
  }
 ],
 "metadata": {
  "kernelspec": {
   "display_name": "venv",
   "language": "python",
   "name": "python3"
  },
  "language_info": {
   "codemirror_mode": {
    "name": "ipython",
    "version": 3
   },
   "file_extension": ".py",
   "mimetype": "text/x-python",
   "name": "python",
   "nbconvert_exporter": "python",
   "pygments_lexer": "ipython3",
   "version": "3.13.5"
  }
 },
 "nbformat": 4,
 "nbformat_minor": 5
}
