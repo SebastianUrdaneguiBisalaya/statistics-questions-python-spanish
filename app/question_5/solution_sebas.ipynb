{
 "cells": [
  {
   "cell_type": "markdown",
   "id": "ab178517",
   "metadata": {},
   "source": [
    "## **Pregunta 5**\n",
    "\n",
    "Escribir un programa para producir los primeros n números primos (2,3,5,7,...)."
   ]
  },
  {
   "cell_type": "markdown",
   "id": "efed8d68",
   "metadata": {},
   "source": [
    "### **Reglas Iniciales basadas en el Teorema Fundamental de la Aritmética**\n",
    "\n",
    "1. La serie de números primeros empieza en 2."
   ]
  },
  {
   "cell_type": "code",
   "execution_count": null,
   "id": "5c4c8f09",
   "metadata": {},
   "outputs": [],
   "source": [
    "def prime_numbers(n):\n",
    "    primes = []\n",
    "    while len(primes) < n + 1:\n",
    "        return\n"
   ]
  }
 ],
 "metadata": {
  "kernelspec": {
   "display_name": "venv",
   "language": "python",
   "name": "python3"
  },
  "language_info": {
   "codemirror_mode": {
    "name": "ipython",
    "version": 3
   },
   "file_extension": ".py",
   "mimetype": "text/x-python",
   "name": "python",
   "nbconvert_exporter": "python",
   "pygments_lexer": "ipython3",
   "version": "3.13.5"
  }
 },
 "nbformat": 4,
 "nbformat_minor": 5
}
