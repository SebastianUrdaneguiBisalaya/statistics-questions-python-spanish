{
 "cells": [
  {
   "cell_type": "markdown",
   "id": "ab178517",
   "metadata": {},
   "source": [
    "## **Pregunta 5**\n",
    "\n",
    "Escribir un programa para producir los primeros n números primos (2,3,5,7,...)."
   ]
  },
  {
   "cell_type": "markdown",
   "id": "efed8d68",
   "metadata": {},
   "source": [
    "### **Reglas Iniciales basadas en el Teorema Fundamental de la Aritmética**\n",
    "\n",
    "1. La serie de números primeros empieza en 2."
   ]
  },
  {
   "cell_type": "code",
   "execution_count": 1,
   "id": "9f116391",
   "metadata": {},
   "outputs": [],
   "source": [
    "import math"
   ]
  },
  {
   "cell_type": "code",
   "execution_count": 7,
   "id": "5c4c8f09",
   "metadata": {},
   "outputs": [],
   "source": [
    "def is_prime(e):\n",
    "    if e < 2:\n",
    "        return False\n",
    "    for i in range(2, int(math.sqrt(e)) + 1):\n",
    "        if e % i == 0:\n",
    "            return False\n",
    "    return True  \n",
    "\n",
    "def prime_numbers(n):\n",
    "    primes = []\n",
    "    initial = 2\n",
    "    while len(primes) < n:\n",
    "        if is_prime(initial):\n",
    "            primes.append(initial)\n",
    "        initial += 1\n",
    "    return primes\n"
   ]
  },
  {
   "cell_type": "code",
   "execution_count": 8,
   "id": "d2db2025",
   "metadata": {},
   "outputs": [
    {
     "data": {
      "text/plain": [
       "[2, 3, 5, 7, 11, 13, 17, 19, 23, 29]"
      ]
     },
     "execution_count": 8,
     "metadata": {},
     "output_type": "execute_result"
    }
   ],
   "source": [
    "prime_numbers(10)"
   ]
  }
 ],
 "metadata": {
  "kernelspec": {
   "display_name": "venv",
   "language": "python",
   "name": "python3"
  },
  "language_info": {
   "codemirror_mode": {
    "name": "ipython",
    "version": 3
   },
   "file_extension": ".py",
   "mimetype": "text/x-python",
   "name": "python",
   "nbconvert_exporter": "python",
   "pygments_lexer": "ipython3",
   "version": "3.13.5"
  }
 },
 "nbformat": 4,
 "nbformat_minor": 5
}
