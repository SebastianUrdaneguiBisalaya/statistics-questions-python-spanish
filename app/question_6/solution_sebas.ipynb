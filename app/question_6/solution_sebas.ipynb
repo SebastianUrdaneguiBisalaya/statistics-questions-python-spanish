{
 "cells": [
  {
   "cell_type": "markdown",
   "id": "7f180caa",
   "metadata": {},
   "source": [
    "## **Pregunta 6**\n",
    "\n",
    "Escribir un programa para testear si un número es potencia de 3."
   ]
  }
 ],
 "metadata": {
  "language_info": {
   "name": "python"
  }
 },
 "nbformat": 4,
 "nbformat_minor": 5
}
