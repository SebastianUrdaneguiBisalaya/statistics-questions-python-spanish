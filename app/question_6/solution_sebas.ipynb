{
 "cells": [
  {
   "cell_type": "markdown",
   "id": "7f180caa",
   "metadata": {},
   "source": [
    "## **Pregunta 6**\n",
    "\n",
    "Escribir un programa para testear si un número es potencia de 3."
   ]
  },
  {
   "cell_type": "markdown",
   "id": "7d79a06c",
   "metadata": {},
   "source": [
    "#### **Descripción de reglas**\n",
    "\n",
    "Para identificar si un número es potencia de 3, debemos verificar que el cociente final de la división sea 1 en todas las iteraciones posibles hasta que el residuo sea 0, si es así entonces el número es potencia de 3. De lo contrario, el número no es potencia de 3. Teniendo en cuenta que si el residuo es diferente a 0 y menor al divisor, entonces tampoco se cumple que sea potencia de 3."
   ]
  },
  {
   "cell_type": "code",
   "execution_count": 26,
   "id": "d4615c7f",
   "metadata": {},
   "outputs": [],
   "source": [
    "def is_power_of_three(n: int):\n",
    "    if n == 0:\n",
    "        return False\n",
    "    while n % 3 == 0:\n",
    "        n = n // 3\n",
    "    return n == 1"
   ]
  },
  {
   "cell_type": "code",
   "execution_count": 27,
   "id": "4e9062d1",
   "metadata": {},
   "outputs": [
    {
     "data": {
      "text/plain": [
       "True"
      ]
     },
     "execution_count": 27,
     "metadata": {},
     "output_type": "execute_result"
    }
   ],
   "source": [
    "is_power_of_three(27)"
   ]
  }
 ],
 "metadata": {
  "kernelspec": {
   "display_name": "venv",
   "language": "python",
   "name": "python3"
  },
  "language_info": {
   "codemirror_mode": {
    "name": "ipython",
    "version": 3
   },
   "file_extension": ".py",
   "mimetype": "text/x-python",
   "name": "python",
   "nbconvert_exporter": "python",
   "pygments_lexer": "ipython3",
   "version": "3.13.5"
  }
 },
 "nbformat": 4,
 "nbformat_minor": 5
}
