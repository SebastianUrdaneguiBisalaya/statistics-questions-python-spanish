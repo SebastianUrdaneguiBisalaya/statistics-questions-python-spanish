{
 "cells": [
  {
   "cell_type": "markdown",
   "id": "2c52b40e",
   "metadata": {},
   "source": [
    "## **Pregunta 7**\n",
    "\n",
    "Escribir un programa que reciba como input un número y obtener como output dicho número con los dígitos en reversa."
   ]
  },
  {
   "cell_type": "code",
   "execution_count": 7,
   "id": "4a1c6614",
   "metadata": {},
   "outputs": [],
   "source": [
    "def reverse(n: int):\n",
    "    integer_to_string = str(n)\n",
    "    reversed_string_to_number = int(integer_to_string[::-1])\n",
    "    return reversed_string_to_number"
   ]
  },
  {
   "cell_type": "code",
   "execution_count": 8,
   "id": "77321804",
   "metadata": {},
   "outputs": [
    {
     "data": {
      "text/plain": [
       "21"
      ]
     },
     "execution_count": 8,
     "metadata": {},
     "output_type": "execute_result"
    }
   ],
   "source": [
    "reverse(12)\n"
   ]
  },
  {
   "cell_type": "code",
   "execution_count": null,
   "id": "362393e5",
   "metadata": {},
   "outputs": [],
   "source": []
  }
 ],
 "metadata": {
  "kernelspec": {
   "display_name": "venv",
   "language": "python",
   "name": "python3"
  },
  "language_info": {
   "codemirror_mode": {
    "name": "ipython",
    "version": 3
   },
   "file_extension": ".py",
   "mimetype": "text/x-python",
   "name": "python",
   "nbconvert_exporter": "python",
   "pygments_lexer": "ipython3",
   "version": "3.13.5"
  }
 },
 "nbformat": 4,
 "nbformat_minor": 5
}
