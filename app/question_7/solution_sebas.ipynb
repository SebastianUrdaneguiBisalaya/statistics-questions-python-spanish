{
 "cells": [
  {
   "cell_type": "markdown",
   "id": "2c52b40e",
   "metadata": {},
   "source": [
    "## **Pregunta 7**\n",
    "\n",
    "Escribir un programa que reciba como input un número y obtener como output dicho número con los dígitos en reversa."
   ]
  }
 ],
 "metadata": {
  "language_info": {
   "name": "python"
  }
 },
 "nbformat": 4,
 "nbformat_minor": 5
}
