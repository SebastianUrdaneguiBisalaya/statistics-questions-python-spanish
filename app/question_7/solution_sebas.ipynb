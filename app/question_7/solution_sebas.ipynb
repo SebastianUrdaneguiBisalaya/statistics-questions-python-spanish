{
 "cells": [
  {
   "cell_type": "markdown",
   "id": "2c52b40e",
   "metadata": {},
   "source": [
    "## **Pregunta 7**\n",
    "\n",
    "Escribir un programa que reciba como input un número y obtener como output dicho número con los dígitos en reversa."
   ]
  },
  {
   "cell_type": "code",
   "execution_count": null,
   "id": "4a1c6614",
   "metadata": {},
   "outputs": [],
   "source": [
    "def reverse(n: int):\n",
    "    pass "
   ]
  }
 ],
 "metadata": {
  "language_info": {
   "name": "python"
  }
 },
 "nbformat": 4,
 "nbformat_minor": 5
}
