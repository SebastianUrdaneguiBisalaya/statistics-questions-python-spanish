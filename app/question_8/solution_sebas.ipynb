{
 "cells": [
  {
   "cell_type": "markdown",
   "id": "4e650871",
   "metadata": {},
   "source": [
    "## **Pregunta 8**\n",
    "\n",
    "Escribir un programa que reciba una matriz 3x3 e indique si dicha matriz es inversible o no."
   ]
  },
  {
   "cell_type": "markdown",
   "id": "043b6d40",
   "metadata": {},
   "source": [
    "### **Reglas Iniciales**\n",
    "\n",
    "Una matriz inversible o también conocida como matriz regular o matriz no singular es una matriz, es aquella que al multiplicarse con otra matriz tiene como resultado una matriz identidad.\n",
    "\n",
    "$$AA^{-1} = A^{-1}A = I$$\n",
    "\n",
    "## **Propiedades de la matriz inversible**\n",
    "\n",
    "1. La matriz debe ser cuadrada, es decir, el numero de filas y columnas debe ser igual.\n",
    "\n",
    "2. La determinante $|A|$ de una matriz inversible es distinto de cero.\n",
    "\n",
    "Dado que se solicita determinar si una matriz cuadrada $3x3$ es inversible, utilizaremos la `Regla de Laplace` para determinar la determinante de la matriz y analizar si es distinto de cero.\n",
    "\n",
    "### **Regla de Laplace**\n",
    "\n",
    "La `Regla de Laplace` define la determinante de una matriz cuadrada como la suma de los productos de los elementos de una línea cualquiera de la matriz por sus adjuntos (cofactores) $A_{ij}$ correspondientes. Esta regla es útil para matriz de orden superior a $3$.\n",
    "\n",
    "**Operación manual**\n",
    "\n",
    "Definimos la matriz $A$ como:\n",
    "\n",
    "$$A = \\begin{vmatrix}\n",
    "a_{11} & a_{12} & a_{13} \\\\\n",
    "a_{21} & a_{22} & a_{23} \\\\\n",
    "a_{31} & a_{32} & a_{33} \\\\\n",
    "\\end{vmatrix}$$\n",
    "\n",
    "Elegir una fila aleatoria de la matriz $A$ y calcular el producto de los elementos de la misma fila por sus adjuntos. Este producto se llama `cofactores` y se calcula como sigue:\n",
    "\n",
    "$$C_{ij} = (-1)^{i+j}det(M_{ij})$$\n",
    "\n",
    "Donde $M_{ij}$ es la submatriz resultando de eliminar la fila $i$ y la columna $j$ de la matriz $A$.\n",
    "\n",
    "$(-1)^{i+j}$ representa el signo alternante del cofactor.\n",
    "\n",
    "Los signos alternates de los cofactores para una matriz $3x3$ son los siguientes:\n",
    "\n",
    "$$\\begin{vmatrix}\n",
    "+ & - & + \\\\\n",
    "- & + & - \\\\\n",
    "+ & - & + \\\\\n",
    "\\end{vmatrix}$$\n",
    "\n",
    "Entonces, la determinate de la matriz $A$ es:\n",
    "\n",
    "$$det(A) = a_{11}C_{11} + a_{12}C_{12} + a_{13}C_{13}$$\n",
    "\n",
    "Calculamos cada uno de los cofactores de la primera fila de la matriz $|A|$.\n",
    "\n",
    "$$C_{11} = (-1)^{1+1}det(M_{11}) = (-1)^{1+1}(a_{22} ⋅ a_{33} - a_{23} ⋅ a_{32})$$\n",
    "$$C_{12} = (-1)^{1+2}det(M_{12}) = (-1)^{1+2}(a_{21} ⋅ a_{33} - a_{23} ⋅ a_{31})$$\n",
    "$$C_{13} = (-1)^{1+3}det(M_{13}) = (-1)^{1+3}(a_{21} ⋅ a_{32} - a_{22} ⋅ a_{31})$$"
   ]
  },
  {
   "cell_type": "code",
   "execution_count": 10,
   "id": "4ef96dd2",
   "metadata": {},
   "outputs": [],
   "source": [
    "from typing import List\n",
    "import numpy as np"
   ]
  },
  {
   "cell_type": "code",
   "execution_count": 26,
   "id": "97388987",
   "metadata": {},
   "outputs": [
    {
     "name": "stdout",
     "output_type": "stream",
     "text": [
      "La matriz no es invertible. La determinante es diferente de 0 con un valor de 0.\n"
     ]
    }
   ],
   "source": [
    "def is_invertible_matrix(matrix: List[List[int]]) -> bool:\n",
    "    array = np.array(matrix)\n",
    "    if array.shape[0] != array.shape[1]:\n",
    "        print(\"La matriz no es cuadrada\")\n",
    "        return\n",
    "    a, b, c = array[0]\n",
    "    d, e, f = array[1]\n",
    "    g, h, i = array[2]\n",
    "\n",
    "    determinant = a * (e * i - f * h) - b * (d * i - f * g) + c * (d * h - e * g)\n",
    "    if determinant == 0:\n",
    "        print(f\"La matriz no es invertible. La determinante es diferente de 0 con un valor de {determinant}.\")\n",
    "        return\n",
    "    else:\n",
    "        print(f\"La matriz no es invertible. La determinante es diferente de 0 con un valor de {determinant}.\")\n",
    "        return\n",
    "\n",
    "is_invertible_matrix([[1,2,3],[4,5,6],[7,8,9]])\n"
   ]
  },
  {
   "cell_type": "code",
   "execution_count": 25,
   "id": "972d9aa5",
   "metadata": {},
   "outputs": [
    {
     "name": "stdout",
     "output_type": "stream",
     "text": [
      "La matriz es invertible. La determinante es diferente de 0 con un valor de -9.51619735392994e-16.\n"
     ]
    }
   ],
   "source": [
    "def is_invertible_matrix(matrix: List[List[int]]) -> bool:\n",
    "    determinant = np.linalg.det(matrix)\n",
    "    if determinant == 0:\n",
    "        print(f\"La matriz no es invertible. La determinante es no es diferente de 0 con un valor de {determinant}.\")\n",
    "        return\n",
    "    else:\n",
    "        print(f\"La matriz es invertible. La determinante es diferente de 0 con un valor de {determinant}.\")\n",
    "        return\n",
    "\n",
    "is_invertible_matrix([[1,2,3],[4,5,6],[7,8,9]])"
   ]
  }
 ],
 "metadata": {
  "kernelspec": {
   "display_name": "venv",
   "language": "python",
   "name": "python3"
  },
  "language_info": {
   "codemirror_mode": {
    "name": "ipython",
    "version": 3
   },
   "file_extension": ".py",
   "mimetype": "text/x-python",
   "name": "python",
   "nbconvert_exporter": "python",
   "pygments_lexer": "ipython3",
   "version": "3.13.5"
  }
 },
 "nbformat": 4,
 "nbformat_minor": 5
}
