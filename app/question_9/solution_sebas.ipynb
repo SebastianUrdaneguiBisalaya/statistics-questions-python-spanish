{
 "cells": [
  {
   "cell_type": "markdown",
   "id": "7a4ad0da",
   "metadata": {},
   "source": [
    "## **Pregunta 9**\n",
    "\n",
    "Escribir un programa que tenga como output el n-ésimo término de la secuencia de Fibonacci."
   ]
  },
  {
   "cell_type": "markdown",
   "id": "0e768905",
   "metadata": {},
   "source": [
    "### **Reglas Iniciales**\n",
    "\n",
    "La secuencia de Fibonacci es una sucesión de números en la que cada número es la suma de los dos anteriores."
   ]
  },
  {
   "cell_type": "code",
   "execution_count": 6,
   "id": "b68f9080",
   "metadata": {},
   "outputs": [
    {
     "data": {
      "text/plain": [
       "[0, 1, 1, 2, 3, 5, 8, 13, 21, 34]"
      ]
     },
     "execution_count": 6,
     "metadata": {},
     "output_type": "execute_result"
    }
   ],
   "source": [
    "def fibonnaci(n: int):\n",
    "    previous, current = 0, 1\n",
    "    result = []\n",
    "    for _ in range(n):\n",
    "        result.append(previous)\n",
    "        previous, current = current, previous + current\n",
    "    return result\n",
    "\n",
    "fibonnaci(10)"
   ]
  }
 ],
 "metadata": {
  "kernelspec": {
   "display_name": "venv",
   "language": "python",
   "name": "python3"
  },
  "language_info": {
   "codemirror_mode": {
    "name": "ipython",
    "version": 3
   },
   "file_extension": ".py",
   "mimetype": "text/x-python",
   "name": "python",
   "nbconvert_exporter": "python",
   "pygments_lexer": "ipython3",
   "version": "3.13.5"
  }
 },
 "nbformat": 4,
 "nbformat_minor": 5
}
