{
 "cells": [
  {
   "cell_type": "markdown",
   "id": "7a4ad0da",
   "metadata": {},
   "source": [
    "## **Pregunta 9**\n",
    "\n",
    "Escribir un programa que tenga como output el n-ésimo término de la secuencia de Fibonacci."
   ]
  },
  {
   "cell_type": "markdown",
   "id": "0e768905",
   "metadata": {},
   "source": [
    "### **Reglas Iniciales**"
   ]
  },
  {
   "cell_type": "markdown",
   "id": "c10ca991",
   "metadata": {},
   "source": []
  },
  {
   "cell_type": "code",
   "execution_count": null,
   "id": "b68f9080",
   "metadata": {},
   "outputs": [],
   "source": [
    "def fibonnaci(n: int):\n",
    "    pass"
   ]
  }
 ],
 "metadata": {
  "language_info": {
   "name": "python"
  }
 },
 "nbformat": 4,
 "nbformat_minor": 5
}
