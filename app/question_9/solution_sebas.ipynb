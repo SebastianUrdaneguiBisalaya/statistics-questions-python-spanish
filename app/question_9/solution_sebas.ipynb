{
 "cells": [
  {
   "cell_type": "markdown",
   "id": "7a4ad0da",
   "metadata": {},
   "source": [
    "## **Pregunta 9**\n",
    "\n",
    "Escribir un programa que reciba una matriz 3x3 e indique si dicha matriz es inversible o no."
   ]
  }
 ],
 "metadata": {
  "language_info": {
   "name": "python"
  }
 },
 "nbformat": 4,
 "nbformat_minor": 5
}
